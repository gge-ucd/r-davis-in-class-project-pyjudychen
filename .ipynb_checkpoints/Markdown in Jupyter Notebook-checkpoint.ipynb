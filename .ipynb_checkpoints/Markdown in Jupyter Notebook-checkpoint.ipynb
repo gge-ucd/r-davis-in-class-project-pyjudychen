{
 "cells": [
  {
   "cell_type": "markdown",
   "id": "365eb9b7",
   "metadata": {},
   "source": [
    "# Demonstration"
   ]
  },
  {
   "cell_type": "markdown",
   "id": "5fcd8792",
   "metadata": {},
   "source": [
    "# Markdown\n",
    "\n",
    "1. Headings\n",
    "    * Major headings\n",
    "    * Subheadings\n",
    "    - 4th headings\n",
    "2. Font style (italic/ bold)\n",
    "3. List\n",
    "4. Tables\n",
    "5. Render images\n",
    "6. Hyperlinks\n",
    "7. Highlight Code\n",
    "8. Horizontal Lines (Rules)"
   ]
  },
  {
   "cell_type": "markdown",
   "id": "d580c5ea",
   "metadata": {},
   "source": [
    "# Headings"
   ]
  },
  {
   "cell_type": "markdown",
   "id": "caa1f160",
   "metadata": {},
   "source": [
    "# Heading 1\n",
    "## Heading 2\n",
    "### Heading 3\n",
    "#### Heading 4"
   ]
  },
  {
   "cell_type": "markdown",
   "id": "b949987e",
   "metadata": {},
   "source": [
    "# Font style"
   ]
  },
  {
   "cell_type": "markdown",
   "id": "daca1906",
   "metadata": {},
   "source": [
    "*These are italicized words not a bullet list*\n",
    "* **This is a bullet item with bold words**\n",
    "* *This is a bullet item with italicized words*\n",
    "* ***This is a bullet item with bold and italicized words***"
   ]
  },
  {
   "cell_type": "markdown",
   "id": "02ee6e14",
   "metadata": {},
   "source": [
    "# Table"
   ]
  },
  {
   "cell_type": "markdown",
   "id": "2ed8671d",
   "metadata": {},
   "source": [
    "|Function|Keyboard|Shortcut\tMenu Tools|\n",
    "|:-------|:-------|:------------------|\n",
    "|Create new cell|Esc + a (above), Esc + b (below)|Insert→ Insert Cell Above OR Insert → Insert Cell Below|\n",
    "|Copy Cell|c|Copy Key|\n",
    "|Paste Cell|v|Paste Key|\n",
    "|Markdown cell|m|Markdown Key|"
   ]
  },
  {
   "cell_type": "markdown",
   "id": "9782c8bb",
   "metadata": {},
   "source": [
    "## Hyperlinks"
   ]
  },
  {
   "cell_type": "markdown",
   "id": "164c37e1",
   "metadata": {},
   "source": [
    "Our program webiste can be found at <a href=\"https://www.earthdatascience.org/courses/intro-to-earth-data-science/file-formats/use-text-files/format-text-with-markdown-jupyter-notebook//\" target='_blank'>this link</a>.\n",
    "\n",
    "Our program webiste can be found at [this link](https://www.earthdatascience.org/courses/intro-to-earth-data-science/file-formats/use-text-files/format-text-with-markdown-jupyter-notebook/)"
   ]
  },
  {
   "cell_type": "markdown",
   "id": "19ee3c00",
   "metadata": {},
   "source": [
    "## Render Images"
   ]
  },
  {
   "cell_type": "markdown",
   "id": "c38c052e",
   "metadata": {},
   "source": [
    "![Markdown Logo is here.](https://www.fullstackpython.com/img/logos/markdown.png)"
   ]
  },
  {
   "cell_type": "markdown",
   "id": "1761048c",
   "metadata": {},
   "source": [
    "<div>\n",
    "<img src=\"https://www.fullstackpython.com/img/logos/markdown.png\" width=\"500\"/>\n",
    "</div>"
   ]
  },
  {
   "cell_type": "markdown",
   "id": "5bd44583",
   "metadata": {},
   "source": [
    "## Highliting Code\n",
    "    'Here is some code!'"
   ]
  },
  {
   "cell_type": "markdown",
   "id": "95854968",
   "metadata": {},
   "source": [
    "## Horizontal Lines (Rules)\n",
    "***\n",
    "Here are some important text!\n",
    "***"
   ]
  },
  {
   "cell_type": "markdown",
   "id": "f8d607ef",
   "metadata": {},
   "source": [
    "# My Analysis\n",
    "\n",
    "Here is *some* text that describe my analyisis:\n",
    "1. Data Processing\n",
    "2. Method\n",
    "3. Results\n",
    "4. Discussion"
   ]
  },
  {
   "cell_type": "markdown",
   "id": "a7e58231",
   "metadata": {},
   "source": [
    "## Data Processing"
   ]
  },
  {
   "cell_type": "markdown",
   "id": "fcdf4254",
   "metadata": {},
   "source": [
    "### Load data (reflectance and wavelengths)"
   ]
  },
  {
   "cell_type": "code",
   "execution_count": 7,
   "id": "9e156460",
   "metadata": {},
   "outputs": [],
   "source": [
    "green_grass = read.csv('C:/Users/user/Box/ESM185_ChenP/Lab5_Chen/Data/SVC_11042021_A01_green_grass.csv')\n",
    "bare_soil = read.csv('C:/Users/user/Box/ESM185_ChenP/Lab5_Chen/Data/SVC_11042021_A01_soil.csv')\n",
    "dry_leave = read.csv('C:/Users/user/Box/ESM185_ChenP/Lab5_Chen/Data/SVC_11042021_A01_dry_leave.csv')\n",
    "soil_dry_green = data.frame(green_grass$ï..Wavelength..nm.,green_grass$Reflectance....,  dry_leave$Reflectance...., bare_soil$Reflectance....)"
   ]
  },
  {
   "cell_type": "code",
   "execution_count": 8,
   "id": "b79f145a",
   "metadata": {},
   "outputs": [
    {
     "data": {
      "text/html": [
       "<table>\n",
       "<thead><tr><th scope=col>green_grass.ï..Wavelength..nm.</th><th scope=col>green_grass.Reflectance....</th><th scope=col>dry_leave.Reflectance....</th><th scope=col>bare_soil.Reflectance....</th></tr></thead>\n",
       "<tbody>\n",
       "\t<tr><td>337.5</td><td>2.77 </td><td>8.33 </td><td>4.13 </td></tr>\n",
       "\t<tr><td>339.0</td><td>2.68 </td><td>8.21 </td><td>4.13 </td></tr>\n",
       "\t<tr><td>340.5</td><td>2.61 </td><td>8.21 </td><td>4.14 </td></tr>\n",
       "\t<tr><td>342.0</td><td>2.50 </td><td>8.15 </td><td>4.11 </td></tr>\n",
       "\t<tr><td>343.4</td><td>2.50 </td><td>8.13 </td><td>4.12 </td></tr>\n",
       "\t<tr><td>344.9</td><td>2.42 </td><td>8.03 </td><td>4.13 </td></tr>\n",
       "</tbody>\n",
       "</table>\n"
      ],
      "text/latex": [
       "\\begin{tabular}{r|llll}\n",
       " green\\_grass.ï..Wavelength..nm. & green\\_grass.Reflectance.... & dry\\_leave.Reflectance.... & bare\\_soil.Reflectance....\\\\\n",
       "\\hline\n",
       "\t 337.5 & 2.77  & 8.33  & 4.13 \\\\\n",
       "\t 339.0 & 2.68  & 8.21  & 4.13 \\\\\n",
       "\t 340.5 & 2.61  & 8.21  & 4.14 \\\\\n",
       "\t 342.0 & 2.50  & 8.15  & 4.11 \\\\\n",
       "\t 343.4 & 2.50  & 8.13  & 4.12 \\\\\n",
       "\t 344.9 & 2.42  & 8.03  & 4.13 \\\\\n",
       "\\end{tabular}\n"
      ],
      "text/markdown": [
       "\n",
       "| green_grass.ï..Wavelength..nm. | green_grass.Reflectance.... | dry_leave.Reflectance.... | bare_soil.Reflectance.... |\n",
       "|---|---|---|---|\n",
       "| 337.5 | 2.77  | 8.33  | 4.13  |\n",
       "| 339.0 | 2.68  | 8.21  | 4.13  |\n",
       "| 340.5 | 2.61  | 8.21  | 4.14  |\n",
       "| 342.0 | 2.50  | 8.15  | 4.11  |\n",
       "| 343.4 | 2.50  | 8.13  | 4.12  |\n",
       "| 344.9 | 2.42  | 8.03  | 4.13  |\n",
       "\n"
      ],
      "text/plain": [
       "  green_grass.ï..Wavelength..nm. green_grass.Reflectance....\n",
       "1 337.5                          2.77                       \n",
       "2 339.0                          2.68                       \n",
       "3 340.5                          2.61                       \n",
       "4 342.0                          2.50                       \n",
       "5 343.4                          2.50                       \n",
       "6 344.9                          2.42                       \n",
       "  dry_leave.Reflectance.... bare_soil.Reflectance....\n",
       "1 8.33                      4.13                     \n",
       "2 8.21                      4.13                     \n",
       "3 8.21                      4.14                     \n",
       "4 8.15                      4.11                     \n",
       "5 8.13                      4.12                     \n",
       "6 8.03                      4.13                     "
      ]
     },
     "metadata": {},
     "output_type": "display_data"
    }
   ],
   "source": [
    "head(soil_dry_green)"
   ]
  },
  {
   "cell_type": "code",
   "execution_count": 5,
   "id": "808e6c92",
   "metadata": {
    "scrolled": true
   },
   "outputs": [
    {
     "data": {
      "text/html": [
       "<ol class=list-inline>\n",
       "\t<li>'ï..Wavelength..nm.'</li>\n",
       "\t<li>'Reference.radiance'</li>\n",
       "\t<li>'Target.radiance'</li>\n",
       "\t<li>'Reflectance....'</li>\n",
       "</ol>\n"
      ],
      "text/latex": [
       "\\begin{enumerate*}\n",
       "\\item 'ï..Wavelength..nm.'\n",
       "\\item 'Reference.radiance'\n",
       "\\item 'Target.radiance'\n",
       "\\item 'Reflectance....'\n",
       "\\end{enumerate*}\n"
      ],
      "text/markdown": [
       "1. 'ï..Wavelength..nm.'\n",
       "2. 'Reference.radiance'\n",
       "3. 'Target.radiance'\n",
       "4. 'Reflectance....'\n",
       "\n",
       "\n"
      ],
      "text/plain": [
       "[1] \"ï..Wavelength..nm.\" \"Reference.radiance\" \"Target.radiance\"   \n",
       "[4] \"Reflectance....\"   "
      ]
     },
     "metadata": {},
     "output_type": "display_data"
    }
   ],
   "source": [
    "colnames(green_grass)"
   ]
  },
  {
   "cell_type": "markdown",
   "id": "03c08b36",
   "metadata": {},
   "source": [
    "### Results\n",
    "The **reflectance** under different **wavelengths** of soil, grass and dry leaves. "
   ]
  },
  {
   "cell_type": "code",
   "execution_count": 10,
   "id": "21eac144",
   "metadata": {
    "scrolled": true
   },
   "outputs": [
    {
     "data": {
      "image/png": "[encoded data removed]",
      "text/plain": [
       "Plot with title \"Spectral Reflectance of Green Grass, \n",
       " Dry Leaves, and Bare Soil\""
      ]
     },
     "metadata": {},
     "output_type": "display_data"
    }
   ],
   "source": [
    "colors <- c(\"green_grass\" = \"green\", \"dry_leaves\" = \"orange\", \"soil\" = \"brown\")\n",
    "plot (x = soil_dry_green$green_grass.ï..Wavelength..nm., \n",
    "      y = soil_dry_green$green_grass.Reflectance...., type = 'l', \n",
    "      xlab = \"Wavelengths (nm)\", ylab = \"Reflectance\",\n",
    "      col = colors[1], \n",
    "      ylim = c(0, 130), \n",
    "      xlim = c(400, 2400),\n",
    "      bty = 'l')\n",
    "lines(x = soil_dry_green$green_grass.ï..Wavelength..nm., \n",
    "      y = soil_dry_green$dry_leave.Reflectance...., col = colors[2])\n",
    "lines(x = soil_dry_green$green_grass.ï..Wavelength..nm., \n",
    "      y = soil_dry_green$bare_soil.Reflectance...., col = colors[3])\n",
    "title(\"Spectral Reflectance of Green Grass, \\n Dry Leaves, and Bare Soil\")\n",
    "legend(\"topright\", \n",
    "       legend=c(\"Green grass\", \"Dry leaves\", \"Bare soil\"),\n",
    "       col=colors, \n",
    "       lty = 1, cex=0.6, lwd = 3, \n",
    "       bty = \"l\")"
   ]
  },
  {
   "cell_type": "markdown",
   "id": "9ff9bac9",
   "metadata": {},
   "source": [
    "### Load data (portal data joined) \n",
    "\n",
    "Read file through github"
   ]
  },
  {
   "cell_type": "code",
   "execution_count": 13,
   "id": "167d635e",
   "metadata": {},
   "outputs": [],
   "source": [
    "survey = read.csv('https://raw.githubusercontent.com/gge-ucd/r-davis-in-class-project-pyjudychen/master/data/portal_data_joined.csv')"
   ]
  },
  {
   "cell_type": "code",
   "execution_count": 14,
   "id": "999c5758",
   "metadata": {
    "scrolled": false
   },
   "outputs": [
    {
     "data": {
      "text/html": [
       "<table>\n",
       "<thead><tr><th scope=col>record_id</th><th scope=col>month</th><th scope=col>day</th><th scope=col>year</th><th scope=col>plot_id</th><th scope=col>species_id</th><th scope=col>sex</th><th scope=col>hindfoot_length</th><th scope=col>weight</th><th scope=col>genus</th><th scope=col>species</th><th scope=col>taxa</th><th scope=col>plot_type</th></tr></thead>\n",
       "<tbody>\n",
       "\t<tr><td>  1     </td><td> 7      </td><td>16      </td><td>1977    </td><td>2       </td><td>NL      </td><td>M       </td><td>32      </td><td>NA      </td><td>Neotoma </td><td>albigula</td><td>Rodent  </td><td>Control </td></tr>\n",
       "\t<tr><td> 72     </td><td> 8      </td><td>19      </td><td>1977    </td><td>2       </td><td>NL      </td><td>M       </td><td>31      </td><td>NA      </td><td>Neotoma </td><td>albigula</td><td>Rodent  </td><td>Control </td></tr>\n",
       "\t<tr><td>224     </td><td> 9      </td><td>13      </td><td>1977    </td><td>2       </td><td>NL      </td><td>        </td><td>NA      </td><td>NA      </td><td>Neotoma </td><td>albigula</td><td>Rodent  </td><td>Control </td></tr>\n",
       "\t<tr><td>266     </td><td>10      </td><td>16      </td><td>1977    </td><td>2       </td><td>NL      </td><td>        </td><td>NA      </td><td>NA      </td><td>Neotoma </td><td>albigula</td><td>Rodent  </td><td>Control </td></tr>\n",
       "\t<tr><td>349     </td><td>11      </td><td>12      </td><td>1977    </td><td>2       </td><td>NL      </td><td>        </td><td>NA      </td><td>NA      </td><td>Neotoma </td><td>albigula</td><td>Rodent  </td><td>Control </td></tr>\n",
       "\t<tr><td>363     </td><td>11      </td><td>12      </td><td>1977    </td><td>2       </td><td>NL      </td><td>        </td><td>NA      </td><td>NA      </td><td>Neotoma </td><td>albigula</td><td>Rodent  </td><td>Control </td></tr>\n",
       "</tbody>\n",
       "</table>\n"
      ],
      "text/latex": [
       "\\begin{tabular}{r|lllllllllllll}\n",
       " record\\_id & month & day & year & plot\\_id & species\\_id & sex & hindfoot\\_length & weight & genus & species & taxa & plot\\_type\\\\\n",
       "\\hline\n",
       "\t   1      &  7       & 16       & 1977     & 2        & NL       & M        & 32       & NA       & Neotoma  & albigula & Rodent   & Control \\\\\n",
       "\t  72      &  8       & 19       & 1977     & 2        & NL       & M        & 31       & NA       & Neotoma  & albigula & Rodent   & Control \\\\\n",
       "\t 224      &  9       & 13       & 1977     & 2        & NL       &          & NA       & NA       & Neotoma  & albigula & Rodent   & Control \\\\\n",
       "\t 266      & 10       & 16       & 1977     & 2        & NL       &          & NA       & NA       & Neotoma  & albigula & Rodent   & Control \\\\\n",
       "\t 349      & 11       & 12       & 1977     & 2        & NL       &          & NA       & NA       & Neotoma  & albigula & Rodent   & Control \\\\\n",
       "\t 363      & 11       & 12       & 1977     & 2        & NL       &          & NA       & NA       & Neotoma  & albigula & Rodent   & Control \\\\\n",
       "\\end{tabular}\n"
      ],
      "text/markdown": [
       "\n",
       "| record_id | month | day | year | plot_id | species_id | sex | hindfoot_length | weight | genus | species | taxa | plot_type |\n",
       "|---|---|---|---|---|---|---|---|---|---|---|---|---|\n",
       "|   1      |  7       | 16       | 1977     | 2        | NL       | M        | 32       | NA       | Neotoma  | albigula | Rodent   | Control  |\n",
       "|  72      |  8       | 19       | 1977     | 2        | NL       | M        | 31       | NA       | Neotoma  | albigula | Rodent   | Control  |\n",
       "| 224      |  9       | 13       | 1977     | 2        | NL       |          | NA       | NA       | Neotoma  | albigula | Rodent   | Control  |\n",
       "| 266      | 10       | 16       | 1977     | 2        | NL       |          | NA       | NA       | Neotoma  | albigula | Rodent   | Control  |\n",
       "| 349      | 11       | 12       | 1977     | 2        | NL       |          | NA       | NA       | Neotoma  | albigula | Rodent   | Control  |\n",
       "| 363      | 11       | 12       | 1977     | 2        | NL       |          | NA       | NA       | Neotoma  | albigula | Rodent   | Control  |\n",
       "\n"
      ],
      "text/plain": [
       "  record_id month day year plot_id species_id sex hindfoot_length weight\n",
       "1   1        7    16  1977 2       NL         M   32              NA    \n",
       "2  72        8    19  1977 2       NL         M   31              NA    \n",
       "3 224        9    13  1977 2       NL             NA              NA    \n",
       "4 266       10    16  1977 2       NL             NA              NA    \n",
       "5 349       11    12  1977 2       NL             NA              NA    \n",
       "6 363       11    12  1977 2       NL             NA              NA    \n",
       "  genus   species  taxa   plot_type\n",
       "1 Neotoma albigula Rodent Control  \n",
       "2 Neotoma albigula Rodent Control  \n",
       "3 Neotoma albigula Rodent Control  \n",
       "4 Neotoma albigula Rodent Control  \n",
       "5 Neotoma albigula Rodent Control  \n",
       "6 Neotoma albigula Rodent Control  "
      ]
     },
     "metadata": {},
     "output_type": "display_data"
    }
   ],
   "source": [
    "head(survey)"
   ]
  },
  {
   "cell_type": "code",
   "execution_count": 24,
   "id": "2f21e514",
   "metadata": {},
   "outputs": [],
   "source": [
    "library(dplyr)"
   ]
  },
  {
   "cell_type": "code",
   "execution_count": 33,
   "id": "31423ef7",
   "metadata": {
    "collapsed": true
   },
   "outputs": [
    {
     "data": {
      "text/html": [
       "<table>\n",
       "<thead><tr><th scope=col>sex</th><th scope=col>avg_weight</th></tr></thead>\n",
       "<tbody>\n",
       "\t<tr><td>        </td><td>64.74257</td></tr>\n",
       "\t<tr><td>F       </td><td>42.17055</td></tr>\n",
       "\t<tr><td>M       </td><td>42.99538</td></tr>\n",
       "</tbody>\n",
       "</table>\n"
      ],
      "text/latex": [
       "\\begin{tabular}{r|ll}\n",
       " sex & avg\\_weight\\\\\n",
       "\\hline\n",
       "\t          & 64.74257\\\\\n",
       "\t F        & 42.17055\\\\\n",
       "\t M        & 42.99538\\\\\n",
       "\\end{tabular}\n"
      ],
      "text/markdown": [
       "\n",
       "| sex | avg_weight |\n",
       "|---|---|\n",
       "|          | 64.74257 |\n",
       "| F        | 42.17055 |\n",
       "| M        | 42.99538 |\n",
       "\n"
      ],
      "text/plain": [
       "  sex avg_weight\n",
       "1     64.74257  \n",
       "2 F   42.17055  \n",
       "3 M   42.99538  "
      ]
     },
     "metadata": {},
     "output_type": "display_data"
    }
   ],
   "source": [
    "survey = group_by(survey, sex)\n",
    "survey_sex_weight = summarize(survey, avg_weight = mean(weight, na.rm = TRUE)) \n",
    "head(survey_sex_weight)"
   ]
  },
  {
   "cell_type": "markdown",
   "id": "1309aa84",
   "metadata": {},
   "source": [
    "### Results\n",
    "***Average weight*** differences between males and females."
   ]
  },
  {
   "cell_type": "code",
   "execution_count": 36,
   "id": "0533f223",
   "metadata": {
    "scrolled": true
   },
   "outputs": [
    {
     "data": {
      "text/html": [
       "<table>\n",
       "<thead><tr><th scope=col>sex</th><th scope=col>avg_weight</th></tr></thead>\n",
       "<tbody>\n",
       "\t<tr><td>F       </td><td>42.17055</td></tr>\n",
       "\t<tr><td>M       </td><td>42.99538</td></tr>\n",
       "</tbody>\n",
       "</table>\n"
      ],
      "text/latex": [
       "\\begin{tabular}{r|ll}\n",
       " sex & avg\\_weight\\\\\n",
       "\\hline\n",
       "\t F        & 42.17055\\\\\n",
       "\t M        & 42.99538\\\\\n",
       "\\end{tabular}\n"
      ],
      "text/markdown": [
       "\n",
       "| sex | avg_weight |\n",
       "|---|---|\n",
       "| F        | 42.17055 |\n",
       "| M        | 42.99538 |\n",
       "\n"
      ],
      "text/plain": [
       "  sex avg_weight\n",
       "1 F   42.17055  \n",
       "2 M   42.99538  "
      ]
     },
     "metadata": {},
     "output_type": "display_data"
    }
   ],
   "source": [
    "survey = group_by(survey, sex)\n",
    "survey_sex_weight = summarize(survey, avg_weight = mean(weight, na.rm = TRUE)) %>%\n",
    "    filter(sex %in% c('F', 'M'))\n",
    "head(survey_sex_weight)"
   ]
  },
  {
   "cell_type": "markdown",
   "id": "786ecc9b",
   "metadata": {},
   "source": [
    "### Load data (iris)"
   ]
  },
  {
   "cell_type": "markdown",
   "id": "662e81b3",
   "metadata": {},
   "source": [
    "Relationship between sepal length and width among different species."
   ]
  },
  {
   "cell_type": "code",
   "execution_count": 23,
   "id": "7b66ad28",
   "metadata": {
    "scrolled": false
   },
   "outputs": [
    {
     "data": {
      "image/png": "[encoded data removed]",
      "text/plain": [
       "plot without title"
      ]
     },
     "metadata": {},
     "output_type": "display_data"
    }
   ],
   "source": [
    "library(ggplot2)\n",
    "ggplot(data=iris, aes(x=Sepal.Length, y=Sepal.Width, color=Species)) + \n",
    "    geom_point(size=3)+\n",
    "    theme_classic()"
   ]
  }
 ],
 "metadata": {
  "kernelspec": {
   "display_name": "R",
   "language": "R",
   "name": "ir"
  },
  "language_info": {
   "codemirror_mode": "r",
   "file_extension": ".r",
   "mimetype": "text/x-r-source",
   "name": "R",
   "pygments_lexer": "r",
   "version": "3.6.1"
  }
 },
 "nbformat": 4,
 "nbformat_minor": 5
}
